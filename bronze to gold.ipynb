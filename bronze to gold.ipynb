{
 "cells": [
  {
   "cell_type": "code",
   "execution_count": 0,
   "metadata": {
    "application/vnd.databricks.v1+cell": {
     "cellMetadata": {
      "byteLimit": 2048000,
      "rowLimit": 10000
     },
     "inputWidgets": {},
     "nuid": "28cb85f6-20e9-45ec-89b5-940cbdaacb0d",
     "showTitle": false,
     "title": ""
    }
   },
   "outputs": [],
   "source": [
    "#Transformations for Country_Quarter_Wise_Visitors.csv\n",
    "\n",
    "from pyspark.sql.functions import col\n",
    "input_path = '/mnt/bronze/Country_Quarter_Wise_Visitors.csv'\n",
    "\n",
    "df = spark.read.format('csv').option(\"header\", \"true\").load(input_path)\n",
    "\n",
    "#1. Replace space with underscore in column names\n",
    "#2. Changing column name from \"2014 1st quarter (Jan-March)\" to \"2024_1\" and like-wise\n",
    "\n",
    "df = df.select([col(x).alias(x.strip().replace(' ','_')) for x in df.columns])\n",
    "\n",
    "for column in df.columns:\n",
    "     if \"quarter\" in column:\n",
    "         df = df.withColumnRenamed(column, column[:6])\n",
    "\n",
    "output_path = '/mnt/gold/Country_Quarter_Wise_Visitors'\n",
    "df.write.format('delta').mode('overwrite').save(output_path)\n"
   ]
  },
  {
   "cell_type": "code",
   "execution_count": 0,
   "metadata": {
    "application/vnd.databricks.v1+cell": {
     "cellMetadata": {
      "byteLimit": 2048000,
      "rowLimit": 10000
     },
     "inputWidgets": {},
     "nuid": "ea2a0828-2f6e-4cd5-b02a-a90fd6fd899d",
     "showTitle": false,
     "title": ""
    }
   },
   "outputs": [],
   "source": [
    "#Transformations for Country_Wise_Airport.csv\n",
    "\n",
    "input_path = '/mnt/bronze/Country_Wise_Airport.csv'\n",
    "\n",
    "df = spark.read.format('csv').option(\"header\", \"true\").load(input_path)\n",
    "df = df.select([col(x).alias(x.strip().replace(' ','_')) for x in df.columns])\n",
    "\n",
    "#Remove aiport from column name\n",
    "for column in df.columns:\n",
    "    if \"Airport\" in column:\n",
    "        df = df.withColumnRenamed(column, column.replace('(Airport)','').strip().strip('_'))\n",
    "\n",
    "output_path = '/mnt/gold/Country_Wise_Airport'\n",
    "df.write.format('delta').mode('overwrite').save(output_path)"
   ]
  },
  {
   "cell_type": "code",
   "execution_count": 0,
   "metadata": {
    "application/vnd.databricks.v1+cell": {
     "cellMetadata": {
      "byteLimit": 2048000,
      "rowLimit": 10000
     },
     "inputWidgets": {},
     "nuid": "204dc062-3d65-4ca8-860a-d32ab97af3a5",
     "showTitle": false,
     "title": ""
    }
   },
   "outputs": [],
   "source": [
    "#Loading all other files to gold\n",
    "\n",
    "transformed_files = ['Country_Quarter_Wise_Visitors.csv', 'Country_Wise_Airport.csv']\n",
    "\n",
    "input_path = '/mnt/bronze/'\n",
    "\n",
    "for file in dbutils.fs.ls(input_path):\n",
    "    if file.name not in transformed_files:\n",
    "        df = spark.read.format('csv').option(\"header\", \"true\").load(file.path)\n",
    "        df = df.select([col(x).alias(x.strip().replace(' ','_')) for x in df.columns])\n",
    "\n",
    "        output_path = f'/mnt/gold/{file.name[:-4]}'\n",
    "        df.write.format('delta').mode('overwrite').save(output_path)"
   ]
  },
  {
   "cell_type": "code",
   "execution_count": 0,
   "metadata": {
    "application/vnd.databricks.v1+cell": {
     "cellMetadata": {
      "byteLimit": 2048000,
      "rowLimit": 10000
     },
     "inputWidgets": {},
     "nuid": "9b703bd7-1c5a-4a49-954c-444203d44646",
     "showTitle": false,
     "title": ""
    }
   },
   "outputs": [],
   "source": []
  }
 ],
 "metadata": {
  "application/vnd.databricks.v1+notebook": {
   "dashboards": [],
   "language": "python",
   "notebookMetadata": {
    "pythonIndentUnit": 4
   },
   "notebookName": "bronze to gold",
   "widgets": {}
  }
 },
 "nbformat": 4,
 "nbformat_minor": 0
}
